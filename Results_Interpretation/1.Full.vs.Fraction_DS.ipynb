{
 "cells": [
  {
   "cell_type": "code",
   "execution_count": 1,
   "metadata": {},
   "outputs": [],
   "source": [
    "import pandas as pd\n",
    "import numpy as np\n",
    "from sklearn.metrics import confusion_matrix\n",
    "from sklearn.metrics import precision_score\n",
    "from sklearn.metrics import f1_score, recall_score, precision_score\n",
    "from sklearn import metrics"
   ]
  },
  {
   "cell_type": "code",
   "execution_count": 2,
   "metadata": {},
   "outputs": [
    {
     "name": "stdout",
     "output_type": "stream",
     "text": [
      "Number of species/classes represented in full dataset: 182\n",
      "Number of species/classes represented in experimental dataset: 169\n"
     ]
    }
   ],
   "source": [
    "df_full = pd.read_csv(r'H:\\IFT6759\\metadata_full_dataset.csv')\n",
    "a = pd.DataFrame(df_full.groupby('y'))\n",
    "print(\"Number of species/classes represented in full dataset: {}\".format(df_full.groupby('y').count().shape[0]))\n",
    "#a.to_csv(r'H:\\IFT6759\\bestmodel_withindicies\\Analysis\\full_dataset_cat_count.csv')\n",
    "\n",
    "\n",
    "df_frac = pd.read_csv(r'H:\\IFT6759\\New_MetaData\\metadata_frac40.csv')\n",
    "b = pd.DataFrame(df_frac.groupby('y'))\n",
    "print(\"Number of species/classes represented in experimental dataset: {}\".format(df_frac.groupby('y').count().shape[0]))\n",
    "#b.to_csv(r'H:\\IFT6759\\bestmodel_withindicies\\Analysis\\frac_dataset_cat_count.csv')"
   ]
  },
  {
   "cell_type": "code",
   "execution_count": 3,
   "metadata": {},
   "outputs": [
    {
     "name": "stdout",
     "output_type": "stream",
     "text": [
      "The classes/species that are omitted in experimental dataset are: [128, 129, 160, 162, 163, 136, 170, 123, 110, 111, 51, 91, 63]\n"
     ]
    }
   ],
   "source": [
    "list_non_unique = list(set(a[0]) - set(b[0]))\n",
    "\n",
    "print(\"The classes/species that are omitted in experimental dataset are: {}\".format(list_non_unique))"
   ]
  },
  {
   "cell_type": "code",
   "execution_count": 26,
   "metadata": {},
   "outputs": [
    {
     "name": "stdout",
     "output_type": "stream",
     "text": [
      "Full DataSet\n",
      "     class  image_count\n",
      "0        0        69487\n",
      "1        1         5770\n",
      "2        2         5753\n",
      "3        3          138\n",
      "4        4         4308\n",
      "..     ...          ...\n",
      "177    177          380\n",
      "178    178          230\n",
      "179    179          180\n",
      "180    180           10\n",
      "181    181           10\n",
      "\n",
      "[182 rows x 2 columns]\n"
     ]
    }
   ],
   "source": [
    "m = pd.DataFrame(df_full.groupby('y'))\n",
    "df = pd.DataFrame()\n",
    "\n",
    "list_class,list_img_count = [],[]\n",
    "\n",
    "for i in range(0,df_full.groupby('y').count().shape[0],1):\n",
    "    list_img_count.append(m[1][i].shape[0])\n",
    "    temp = m[1][i]['y'].unique()\n",
    "    list_class.append(temp[0].tolist())\n",
    "df['class'] = pd.Series(list_class)\n",
    "df['image_count'] = list_img_count  \n",
    "print('Full DataSet')\n",
    "print(df)"
   ]
  },
  {
   "cell_type": "code",
   "execution_count": 32,
   "metadata": {},
   "outputs": [],
   "source": [
    "list_unique = list(set(a[0]) - set(list_non_unique))"
   ]
  },
  {
   "cell_type": "code",
   "execution_count": 35,
   "metadata": {},
   "outputs": [
    {
     "name": "stdout",
     "output_type": "stream",
     "text": [
      "Data Points omitted from full dataset\n",
      "     class  image_count\n",
      "128    128            3\n",
      "129    129            3\n",
      "160    160            1\n",
      "162    162            2\n",
      "163    163            1\n",
      "136    136            3\n",
      "170    170            3\n",
      "123    123            6\n",
      "110    110            1\n",
      "111    111            4\n",
      "51      51            1\n",
      "91      91            1\n",
      "63      63            3\n"
     ]
    }
   ],
   "source": [
    "indexes_to_keep = set(range(df.shape[0])) - set(list_unique)\n",
    "df_sliced = df.take(list(indexes_to_keep))\n",
    "print(\"Data Points omitted from full dataset\")\n",
    "print(df_sliced)"
   ]
  }
 ],
 "metadata": {
  "kernelspec": {
   "display_name": "Python 3",
   "language": "python",
   "name": "python3"
  },
  "language_info": {
   "codemirror_mode": {
    "name": "ipython",
    "version": 3
   },
   "file_extension": ".py",
   "mimetype": "text/x-python",
   "name": "python",
   "nbconvert_exporter": "python",
   "pygments_lexer": "ipython3",
   "version": "3.7.6"
  }
 },
 "nbformat": 4,
 "nbformat_minor": 4
}
